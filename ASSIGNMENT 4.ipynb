{
 "cells": [
  {
   "cell_type": "markdown",
   "metadata": {},
   "source": [
    "# Question 1"
   ]
  },
  {
   "cell_type": "code",
   "execution_count": 2,
   "metadata": {},
   "outputs": [
    {
     "name": "stdout",
     "output_type": "stream",
     "text": [
      "enter the number:5\n",
      "0\n",
      "1\n",
      "1\n",
      "2\n",
      "3\n"
     ]
    }
   ],
   "source": [
    "def fib(n):\n",
    "    n=int(input(\"enter the number:\"))\n",
    "    a=0\n",
    "    b=1\n",
    "    c=0\n",
    "    print(a)\n",
    "    print(b)\n",
    "    for i in range(n-2):\n",
    "        c=a+b\n",
    "        a=b\n",
    "        b=c\n",
    "        print(c)\n",
    "    \n",
    "fib(5)\n"
   ]
  },
  {
   "cell_type": "markdown",
   "metadata": {},
   "source": [
    "# Question 2"
   ]
  },
  {
   "cell_type": "code",
   "execution_count": 3,
   "metadata": {},
   "outputs": [
    {
     "name": "stdout",
     "output_type": "stream",
     "text": [
      "I love LetsUpgrade\n",
      "I love LetsUpgrade\n",
      "we all love pyhton classes with lu\n",
      "I love LetsUpgrade\n",
      "we all love pyhton classes with lu\n"
     ]
    }
   ],
   "source": [
    "file = open(\"letsupgrade.txt\",\"wb\")   \n",
    "file = open(\"letsupgrade.txt\",\"w\")\n",
    "file.write(\"I love LetsUpgrade\")\n",
    "file = open(\"letsupgrade.txt\",\"r\")\n",
    "hai=file.read()\n",
    "print(hai)\n",
    "file = open(\"letsupgrade.txt\",\"a\")\n",
    "file.write(\"\\nwe all love pyhton classes with lu\")\n",
    "file = open(\"letsupgrade.txt\",\"r\")\n",
    "hai=file.read()\n",
    "print(hai)\n",
    "file.close()\n",
    "\n",
    "with open(\"letsupgrade.txt\") as file:\n",
    "    data=file.read()\n",
    "    print(data)\n"
   ]
  },
  {
   "cell_type": "markdown",
   "metadata": {},
   "source": [
    "# Question 3"
   ]
  },
  {
   "cell_type": "code",
   "execution_count": 4,
   "metadata": {},
   "outputs": [
    {
     "name": "stdout",
     "output_type": "stream",
     "text": [
      "enter the movie name :thriller\n",
      "movie2\n",
      "movie3\n"
     ]
    }
   ],
   "source": [
    "import random\n",
    "def rec(movie):\n",
    "    movie=input(\"enter the movie name :\")\n",
    "    lst=[\"movie1\",\"movie2\",\"movie3\",\"movie4,movie5,movie6,movie7\"]\n",
    "    shot1=random.choice(lst)\n",
    "    shot2=random.choice(lst)\n",
    "    shot3=random.choice(lst)\n",
    "    shot4=random.choice(lst)\n",
    "    if(movie == \"thriller\"):\n",
    "        print(shot1)\n",
    "        print(shot2)\n",
    "    else:\n",
    "        print(shot3)\n",
    "        print(shot4)\n",
    "        \n",
    "        \n",
    "\n",
    "rec(\"thriller\")\n",
    "        \n"
   ]
  },
  {
   "cell_type": "code",
   "execution_count": null,
   "metadata": {},
   "outputs": [],
   "source": []
  }
 ],
 "metadata": {
  "kernelspec": {
   "display_name": "Python 3",
   "language": "python",
   "name": "python3"
  },
  "language_info": {
   "codemirror_mode": {
    "name": "ipython",
    "version": 3
   },
   "file_extension": ".py",
   "mimetype": "text/x-python",
   "name": "python",
   "nbconvert_exporter": "python",
   "pygments_lexer": "ipython3",
   "version": "3.7.6"
  }
 },
 "nbformat": 4,
 "nbformat_minor": 4
}
