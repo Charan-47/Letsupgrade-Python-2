{
 "cells": [
  {
   "cell_type": "markdown",
   "metadata": {},
   "source": [
    "# Question 1"
   ]
  },
  {
   "cell_type": "code",
   "execution_count": 6,
   "metadata": {},
   "outputs": [
    {
     "name": "stdout",
     "output_type": "stream",
     "text": [
      "Error was : not writable\n",
      "Thank you\n"
     ]
    }
   ],
   "source": [
    "file = open(\"text.txt\",\"r\")\n",
    "try:\n",
    "    file.write(\"hello LetsUpgrade\")\n",
    "except Exception as e:\n",
    "    print(\"Error was :\",e)\n",
    "finally:\n",
    "    print(\"Thank you\")\n",
    "    "
   ]
  },
  {
   "cell_type": "markdown",
   "metadata": {},
   "source": [
    "# Question 2"
   ]
  },
  {
   "cell_type": "code",
   "execution_count": 83,
   "metadata": {},
   "outputs": [
    {
     "name": "stdout",
     "output_type": "stream",
     "text": [
      "Overwriting prime.py\n"
     ]
    }
   ],
   "source": [
    "%%writefile prime.py\n",
    "\n",
    "\"\"\"This is used to create a prime.py \"\"\"\n",
    "\n",
    "def primenum(num):\n",
    "    '''it is used to tell prime or not using prime function'''\n",
    "    if num > 1:\n",
    "        for i in range(2, num):\n",
    "            if num%i == 0:\n",
    "                return\"Not a prime\"\n",
    "                break\n",
    "        else:\n",
    "            return\"prime\"\n",
    "    else:\n",
    "        return\"Not a prime\""
   ]
  },
  {
   "cell_type": "code",
   "execution_count": 87,
   "metadata": {},
   "outputs": [
    {
     "name": "stdout",
     "output_type": "stream",
     "text": [
      "************* Module prime\n",
      "prime.py:10:16: W0101: Unreachable code (unreachable)\n",
      "\n",
      "------------------------------------------------------------------\n",
      "\n",
      "Your code has been rated at 8.75/10 (previous run: 8.75/10, +0.00)\n",
      "\n",
      "\n",
      "\n"
     ]
    }
   ],
   "source": [
    "!pylint prime.py"
   ]
  },
  {
   "cell_type": "code",
   "execution_count": 85,
   "metadata": {},
   "outputs": [
    {
     "name": "stdout",
     "output_type": "stream",
     "text": [
      "Overwriting primetesting.py\n"
     ]
    }
   ],
   "source": [
    "%%writefile primetesting.py\n",
    "import unittest\n",
    "import prime\n",
    "\n",
    "class primetest(unittest.TestCase):\n",
    "    def test1(self):\n",
    "        temp_num = 3\n",
    "        result = prime.primenum(temp_num)\n",
    "        print(result)\n",
    "        self.assertAlmostEqual(result,\"prime\")\n",
    "\n",
    "    def test2(self):\n",
    "        temp_num = 4\n",
    "        result = prime.primenum(temp_num)\n",
    "        print(result)\n",
    "        self.assertAlmostEqual(result,\"Not a prime\")\n",
    "if __name__ == \"__main__\":\n",
    "    unittest.main()"
   ]
  },
  {
   "cell_type": "code",
   "execution_count": 86,
   "metadata": {},
   "outputs": [
    {
     "name": "stdout",
     "output_type": "stream",
     "text": [
      "prime\n",
      "Not a prime\n"
     ]
    },
    {
     "name": "stderr",
     "output_type": "stream",
     "text": [
      "..\n",
      "----------------------------------------------------------------------\n",
      "Ran 2 tests in 0.001s\n",
      "\n",
      "OK\n"
     ]
    }
   ],
   "source": [
    "!python primetesting.py"
   ]
  },
  {
   "cell_type": "code",
   "execution_count": null,
   "metadata": {},
   "outputs": [],
   "source": []
  }
 ],
 "metadata": {
  "kernelspec": {
   "display_name": "Python 3",
   "language": "python",
   "name": "python3"
  },
  "language_info": {
   "codemirror_mode": {
    "name": "ipython",
    "version": 3
   },
   "file_extension": ".py",
   "mimetype": "text/x-python",
   "name": "python",
   "nbconvert_exporter": "python",
   "pygments_lexer": "ipython3",
   "version": "3.7.6"
  }
 },
 "nbformat": 4,
 "nbformat_minor": 4
}
